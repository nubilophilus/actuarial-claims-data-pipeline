# demo_walkthrough.ipynb

"""
Interactive walkthrough notebook that:
- Loads sample claims data
- Runs feature engineering
- Trains a forecasting model
- Outputs evaluation metrics and visuals
"""
